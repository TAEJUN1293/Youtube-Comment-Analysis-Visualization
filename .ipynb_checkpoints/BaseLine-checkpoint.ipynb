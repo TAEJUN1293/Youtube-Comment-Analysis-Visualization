{
 "cells": [
  {
   "cell_type": "markdown",
   "id": "652a3dd9",
   "metadata": {},
   "source": [
    "# Youtube 인기 급상승 채널로부터 크롤링 진행"
   ]
  },
  {
   "cell_type": "code",
   "execution_count": 48,
   "id": "b74ff157",
   "metadata": {
    "tags": []
   },
   "outputs": [],
   "source": [
    "# scraping에 필요한 라이브러리 호출\n",
    "from selenium import webdriver\n",
    "from webdriver_manager.chrome import ChromeDriverManager\n",
    "from selenium.webdriver.chrome.service import Service\n",
    "from selenium.webdriver.common.by import By\n",
    "from selenium.webdriver.support.ui import WebDriverWait\n",
    "from selenium.webdriver.support import expected_conditions as EC\n",
    "from bs4 import BeautifulSoup\n",
    "import pandas as pd\n",
    "import time\n",
    "from tqdm import tqdm\n",
    "import re\n",
    "import warnings\n",
    "warnings.filterwarnings('ignore')\n",
    "warnings.filterwarnings(action = 'ignore')"
   ]
  },
  {
   "cell_type": "markdown",
   "id": "1ecc5a2b",
   "metadata": {
    "tags": []
   },
   "source": [
    "## 최신 기준 댓글 전부 긁어오기"
   ]
  },
  {
   "cell_type": "code",
   "execution_count": null,
   "id": "6918d3fe",
   "metadata": {},
   "outputs": [],
   "source": [
    "user_agent = 'Mozilla/5.0 (Windows NT 10.0; Win64; x64) AppleWebKit/537.36 (KHTML, like Gecko) Chrome/112.0.0.0 Safari/537.36'\n",
    "url = \"https://www.youtube.com/feed/trending\"\n",
    "\n",
    "options = webdriver.ChromeOptions()\n",
    "# 크롬창 띄우기 X\n",
    "# options.add_argument('headless')\n",
    "options.add_argument('window-size=1920*1080')\n",
    "# 크롤링 성능 향상\n",
    "options.add_argument('disable-gpu')\n",
    "options.add_argument('lang=ko_KR, en_US')\n",
    "options.add_argument('user-agent=' + user_agent)\n",
    "\n",
    "driver = webdriver.Chrome(service = Service(ChromeDriverManager().install()), options = options)\n",
    "driver.get(url)\n",
    "driver.implicitly_wait(3)\n",
    "\n",
    "# 카테고리별 클릭 버튼 추가하기\n",
    "# ~~~ code\n",
    "\n",
    "# 페이지 스크롤 다운 (모든 동영상 로딩)\n",
    "last_height = driver.execute_script(\"return document.documentElement.scrollHeight\")\n",
    "while True:\n",
    "    driver.execute_script(\"window.scrollTo(0, document.documentElement.scrollHeight);\")\n",
    "    time.sleep(3)\n",
    "    new_height = driver.execute_script(\"return document.documentElement.scrollHeight\")\n",
    "    if new_height == last_height:\n",
    "        break\n",
    "    last_height = new_height\n",
    "    time.sleep(1)\n",
    "    # 팝업 제거\n",
    "    try:\n",
    "        driver.find_element_by_css_selector('#dismiss-button > a').click()\n",
    "\n",
    "    except:\n",
    "        pass\n",
    "    \n",
    "# 모든 동영상 링크 수집\n",
    "\n",
    "video_links = []\n",
    "for video in driver.find_elements(By.XPATH, \"//a[@id='video-title']\"):\n",
    "    video_links.append(video.get_attribute(\"href\"))"
   ]
  },
  {
   "cell_type": "code",
   "execution_count": 50,
   "id": "b119260e-315d-4c8e-a883-3c67ff022d9f",
   "metadata": {},
   "outputs": [
    {
     "name": "stdout",
     "output_type": "stream",
     "text": [
      "현재 수집 과정 : 14 / 15\n",
      "현재 수집 과정 : 15 / 15\n",
      "완료 : https://www.youtube.com/watch?v=H0VqCLbZupA\n",
      "현재 수집 과정 : 450 / 48428\n",
      "현재 수집 과정 : 683 / 48428\n",
      "현재 수집 과정 : 729 / 48428\n",
      "현재 수집 과정 : 834 / 48428\n",
      "현재 수집 과정 : 870 / 48428\n",
      "현재 수집 과정 : 891 / 48428\n",
      "현재 수집 과정 : 927 / 48428\n",
      "현재 수집 과정 : 957 / 48428\n",
      "현재 수집 과정 : 981 / 48428\n",
      "현재 수집 과정 : 1009 / 48428\n",
      "현재 수집 과정 : 1049 / 48428\n",
      "현재 수집 과정 : 1070 / 48428\n",
      "현재 수집 과정 : 1096 / 48428\n"
     ]
    },
    {
     "ename": "KeyboardInterrupt",
     "evalue": "",
     "output_type": "error",
     "traceback": [
      "\u001b[0;31m---------------------------------------------------------------------------\u001b[0m",
      "\u001b[0;31mKeyboardInterrupt\u001b[0m                         Traceback (most recent call last)",
      "Cell \u001b[0;32mIn[50], line 30\u001b[0m\n\u001b[1;32m     28\u001b[0m \u001b[38;5;28;01mwhile\u001b[39;00m \u001b[38;5;28;01mTrue\u001b[39;00m:\n\u001b[1;32m     29\u001b[0m     driver\u001b[38;5;241m.\u001b[39mexecute_script(\u001b[38;5;124m\"\u001b[39m\u001b[38;5;124mwindow.scrollTo(0, document.documentElement.scrollHeight);\u001b[39m\u001b[38;5;124m\"\u001b[39m)\n\u001b[0;32m---> 30\u001b[0m     \u001b[43mtime\u001b[49m\u001b[38;5;241;43m.\u001b[39;49m\u001b[43msleep\u001b[49m\u001b[43m(\u001b[49m\u001b[38;5;241;43m3\u001b[39;49m\u001b[43m)\u001b[49m\n\u001b[1;32m     31\u001b[0m     new_height \u001b[38;5;241m=\u001b[39m driver\u001b[38;5;241m.\u001b[39mexecute_script(\u001b[38;5;124m\"\u001b[39m\u001b[38;5;124mreturn document.body.scrollHeight\u001b[39m\u001b[38;5;124m\"\u001b[39m)\n\u001b[1;32m     32\u001b[0m     \u001b[38;5;28;01mif\u001b[39;00m new_height \u001b[38;5;241m==\u001b[39m last_height:  \u001b[38;5;66;03m# 페이지 맨아래로 스크롤 완료 상태\u001b[39;00m\n",
      "\u001b[0;31mKeyboardInterrupt\u001b[0m: "
     ]
    }
   ],
   "source": [
    "comment_dict = dict()\n",
    "\n",
    "for video_link in video_links:\n",
    "    ## shorts는 스킵\n",
    "    if 'shorts' in video_link:\n",
    "        continue\n",
    "    driver.get(video_link)\n",
    "    driver.implicitly_wait(10)\n",
    "    ## 총 댓글 갯수를 토대로 전체 댓글을 긁어올 때까지 반복\n",
    "    comment_sum = int(driver.find_element(By.XPATH, '//*[@id=\"count\"]/yt-formatted-string/span[2]').text.replace(\",\", ''))\n",
    "    comment_cnt = 0\n",
    "    index = 0\n",
    "    while comment_cnt < comment_sum:\n",
    "        locator = (By.XPATH, '//*[@id=\"content-text\"]')\n",
    "        comment_elements = driver.find_elements(*locator)\n",
    "        comment_cnt = len(comment_elements)\n",
    "        \n",
    "        #대댓글 숫자 파악해서 합산하면 정확하게 맞아떨어짐\n",
    "        reply_elements = driver.find_elements(By.XPATH, '//*[@id=\"more-replies\"]/yt-button-shape/button/div/span')\n",
    "        \n",
    "        for reply in reply_elements:\n",
    "            reply_cnt = int(reply.text.replace(\"답글 \", \"\").replace(\"개\", \"\"))\n",
    "            comment_cnt += reply_cnt\n",
    "            \n",
    "        print(\"\\r현재 수집 과정 : %s / %s\" % (comment_cnt, comment_sum), end='', flush=True)\n",
    "        last_height = driver.execute_script(\"return document.body.scrollHeight\")\n",
    "\n",
    "        while True:\n",
    "            driver.execute_script(\"window.scrollTo(0, document.documentElement.scrollHeight);\")\n",
    "            time.sleep(1)\n",
    "            new_height = driver.execute_script(\"return document.body.scrollHeight\")\n",
    "            if new_height == last_height:  # 페이지 맨아래로 스크롤 완료 상태\n",
    "                break\n",
    "\n",
    "            last_height = new_height\n",
    "    comment_list = list()\n",
    "    for c in comment_elements:\n",
    "        comment_list.append(c.text)\n",
    "    comment_dict[video_link] = comment_list\n",
    "    print(\"완료 : %s\" % video_link)"
   ]
  },
  {
   "cell_type": "code",
   "execution_count": 51,
   "id": "b61359b7-fdae-4c07-ac55-7b2842823edf",
   "metadata": {},
   "outputs": [
    {
     "data": {
      "text/plain": [
       "{'https://www.youtube.com/watch?v=H0VqCLbZupA': ['와우 의미를 부여하면서\\n스토리를 풀어나가는 거\\n넘 도움되네요\\n심리에 대해서 배우고 가는 느낌 ',\n",
       "  '마술의 흥미가있어',\n",
       "  '요즘에 이거 보면서 마술에 흥미가 생겼어요♡',\n",
       "  '형님 성공하셧네요',\n",
       "  '만약 서로 다른색을 이야기하면 어떻게해야하나요\\n처음에 빨강 그다음 검정 이런식으로',\n",
       "  '첫번째거 어떻게\\n하는지도 올려주새요',\n",
       "  '구독하고갑니다',\n",
       "  '세잎클로버나 스페이드를 선택하면.. 어떤식의 의미를 부여하는게 좋을까요.',\n",
       "  '처음에 저게 마술인줄,,(1빠)',\n",
       "  '10분 마술',\n",
       "  '오늘 혀가\\n많이 기네요\\n잘배우고 갑니다 해햇',\n",
       "  '2빠']}"
      ]
     },
     "execution_count": 51,
     "metadata": {},
     "output_type": "execute_result"
    }
   ],
   "source": [
    "comment_dict"
   ]
  },
  {
   "cell_type": "markdown",
   "id": "238e40d4",
   "metadata": {},
   "source": [
    "# Comment Visualization"
   ]
  },
  {
   "cell_type": "code",
   "execution_count": null,
   "id": "dfd27f46",
   "metadata": {},
   "outputs": [],
   "source": []
  },
  {
   "cell_type": "code",
   "execution_count": null,
   "id": "9ee4b462",
   "metadata": {},
   "outputs": [],
   "source": []
  },
  {
   "cell_type": "code",
   "execution_count": null,
   "id": "77aa8b7b",
   "metadata": {},
   "outputs": [],
   "source": []
  },
  {
   "cell_type": "code",
   "execution_count": null,
   "id": "d6ffbee7",
   "metadata": {},
   "outputs": [],
   "source": []
  },
  {
   "cell_type": "code",
   "execution_count": null,
   "id": "321e9430",
   "metadata": {},
   "outputs": [],
   "source": []
  },
  {
   "cell_type": "code",
   "execution_count": null,
   "id": "3c11a7e5",
   "metadata": {},
   "outputs": [],
   "source": []
  },
  {
   "cell_type": "code",
   "execution_count": null,
   "id": "03c62be9",
   "metadata": {},
   "outputs": [],
   "source": []
  },
  {
   "cell_type": "code",
   "execution_count": null,
   "id": "cf78bf50",
   "metadata": {},
   "outputs": [],
   "source": []
  },
  {
   "cell_type": "code",
   "execution_count": null,
   "id": "90c6f442",
   "metadata": {},
   "outputs": [],
   "source": []
  }
 ],
 "metadata": {
  "kernelspec": {
   "display_name": "AutoSlack",
   "language": "python",
   "name": "autoslack"
  },
  "language_info": {
   "codemirror_mode": {
    "name": "ipython",
    "version": 3
   },
   "file_extension": ".py",
   "mimetype": "text/x-python",
   "name": "python",
   "nbconvert_exporter": "python",
   "pygments_lexer": "ipython3",
   "version": "3.8.16"
  },
  "toc": {
   "base_numbering": 1,
   "nav_menu": {},
   "number_sections": true,
   "sideBar": true,
   "skip_h1_title": false,
   "title_cell": "Table of Contents",
   "title_sidebar": "Contents",
   "toc_cell": false,
   "toc_position": {},
   "toc_section_display": true,
   "toc_window_display": false
  },
  "varInspector": {
   "cols": {
    "lenName": 16,
    "lenType": 16,
    "lenVar": 40
   },
   "kernels_config": {
    "python": {
     "delete_cmd_postfix": "",
     "delete_cmd_prefix": "del ",
     "library": "var_list.py",
     "varRefreshCmd": "print(var_dic_list())"
    },
    "r": {
     "delete_cmd_postfix": ") ",
     "delete_cmd_prefix": "rm(",
     "library": "var_list.r",
     "varRefreshCmd": "cat(var_dic_list()) "
    }
   },
   "types_to_exclude": [
    "module",
    "function",
    "builtin_function_or_method",
    "instance",
    "_Feature"
   ],
   "window_display": false
  }
 },
 "nbformat": 4,
 "nbformat_minor": 5
}
