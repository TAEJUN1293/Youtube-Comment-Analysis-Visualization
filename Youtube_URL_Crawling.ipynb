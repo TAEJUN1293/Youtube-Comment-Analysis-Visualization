{
 "cells": [
  {
   "cell_type": "markdown",
   "id": "52e9c32b",
   "metadata": {},
   "source": [
    "# 인기급상승 채널에 한해 Crawling 진행"
   ]
  },
  {
   "cell_type": "code",
   "execution_count": 19,
   "id": "4f5df104",
   "metadata": {},
   "outputs": [],
   "source": [
    "# scraping에 필요한 라이브러리 호출\n",
    "from selenium import webdriver\n",
    "from webdriver_manager.chrome import ChromeDriverManager\n",
    "from selenium.webdriver.chrome.service import Service\n",
    "from selenium.webdriver.common.by import By\n",
    "from selenium.webdriver.support.ui import WebDriverWait\n",
    "from selenium.webdriver.support import expected_conditions as EC\n",
    "from bs4 import BeautifulSoup\n",
    "from selenium.webdriver import ActionChains\n",
    "from selenium.webdriver.common.keys import Keys\n",
    "import pandas as pd\n",
    "import time\n",
    "from tqdm import tqdm\n",
    "import re\n",
    "import warnings\n",
    "warnings.filterwarnings('ignore')\n",
    "warnings.filterwarnings(action = 'ignore')"
   ]
  },
  {
   "cell_type": "markdown",
   "id": "11a39c1f",
   "metadata": {},
   "source": [
    "video{\n",
    "\n",
    "    category         : str   (영상분류)\n",
    "    id (pk)          : int   (영상 고유키)\n",
    "    title            : str   (제목)\n",
    "    thumbnail        : str   (썸네일 url)\n",
    "    count_of_views   : int   (조회수)\n",
    "    comments         : list  (샘플댓글리스트)\n",
    "\n",
    "\n",
    "    metadata{\n",
    "        url              : str   (영상url)\n",
    "        count_of_comment : int   (전체댓글수)\n",
    "        scrap_count      : int   (샘플댓글수)\n",
    "    }\n",
    "}"
   ]
  },
  {
   "cell_type": "markdown",
   "id": "12a1457d",
   "metadata": {},
   "source": [
    "# 기본 세팅"
   ]
  },
  {
   "cell_type": "code",
   "execution_count": 37,
   "id": "ca566cb4",
   "metadata": {},
   "outputs": [],
   "source": [
    "user_agent = 'Mozilla/5.0 (Windows NT 10.0; Win64; x64) AppleWebKit/537.36 (KHTML, like Gecko) Chrome/112.0.0.0 Safari/537.36'\n",
    "url = \"https://www.youtube.com/feed/trending\"\n",
    "options = webdriver.ChromeOptions()\n",
    "# 크롬창 띄우기 X\n",
    "# options.add_argument('headless')\n",
    "options.add_argument('window-size=1920*1080')\n",
    "# 크롤링 성능 향상\n",
    "options.add_argument('--disable-gpu')\n",
    "options.add_argument('lang=ko_KR, en_US')\n",
    "options.add_argument('user-agent=' + user_agent)"
   ]
  },
  {
   "cell_type": "markdown",
   "id": "7bb2655c",
   "metadata": {},
   "source": [
    "# 최신 - URL"
   ]
  },
  {
   "cell_type": "code",
   "execution_count": 93,
   "id": "6a189f0f",
   "metadata": {},
   "outputs": [],
   "source": [
    "def recent_check_url():\n",
    "    driver = webdriver.Chrome(service = Service(ChromeDriverManager().install()), options = options)\n",
    "    driver.get(url)\n",
    "    driver.implicitly_wait(3)\n",
    "    \n",
    "    # 페이지 스크롤 다운 (모든 동영상 로딩)\n",
    "    last_height = driver.execute_script(\"return document.documentElement.scrollHeight\")\n",
    "    while True:\n",
    "        driver.execute_script(\"window.scrollTo(0, document.documentElement.scrollHeight);\")\n",
    "        time.sleep(5)\n",
    "        new_height = driver.execute_script(\"return document.documentElement.scrollHeight\")\n",
    "        if new_height == last_height:\n",
    "            break\n",
    "        last_height = new_height\n",
    "        time.sleep(1.5)\n",
    "        # 팝업 제거\n",
    "        try:\n",
    "            driver.find_element_by_css_selector('#dismiss-button > a').click()\n",
    "\n",
    "        except:\n",
    "            pass\n",
    "    \n",
    "    # 모든 동영상 (쇼츠 제외) 링크, 제목 수집\n",
    "    video_links = []\n",
    "    title_list = []\n",
    "    for video in driver.find_elements(By.XPATH, \"//a[@id='video-title']\"):\n",
    "        if video.get_attribute is not None and 'shorts' not in video.get_attribute('href'):\n",
    "            video_links.append(video.get_attribute(\"href\"))\n",
    "            title_list.append(video.text.strip())\n",
    "\n",
    "    video_links = video_links[:50]\n",
    "    title_list = title_list[:50]\n",
    "    \n",
    "    # 썸네일 이미지 가져오기\n",
    "    thumbnails = []\n",
    "    for video_link in video_links:\n",
    "        driver.get(video_link)\n",
    "        thumbnail = driver.find_element(By.XPATH, \"//meta[@property='og:image']\")\n",
    "        thumbnails.append(thumbnail.get_attribute('content'))\n",
    "    \n",
    "\n",
    "    thumnails = thumbnails[:50]\n",
    "    return video_links, title_list, thumbnails"
   ]
  },
  {
   "cell_type": "markdown",
   "id": "f88574a7",
   "metadata": {},
   "source": [
    "# 음악 - URL"
   ]
  },
  {
   "cell_type": "code",
   "execution_count": 94,
   "id": "a6e38503",
   "metadata": {},
   "outputs": [],
   "source": [
    "def music_check_url():\n",
    "    driver = webdriver.Chrome(service = Service(ChromeDriverManager().install()), options = options)\n",
    "    driver.get(url)\n",
    "    driver.implicitly_wait(3)\n",
    "    \n",
    "    # 카테고리별 클릭 버튼 추가하기 해당 class name 찾고 (영화)\n",
    "    # 영화 버튼 클릭하기\n",
    "    music_button = driver.find_element(By.XPATH, '//*[@id=\"tabsContent\"]/tp-yt-paper-tab[2]/div/div[1]')\n",
    "    ActionChains(driver).click(music_button).perform()\n",
    "\n",
    "    # 페이지 스크롤 다운 (모든 동영상 로딩)\n",
    "    last_height = driver.execute_script(\"return document.documentElement.scrollHeight\")\n",
    "    while True:\n",
    "        driver.execute_script(\"window.scrollTo(0, document.documentElement.scrollHeight);\")\n",
    "        time.sleep(5)\n",
    "        new_height = driver.execute_script(\"return document.documentElement.scrollHeight\")\n",
    "        if new_height == last_height:\n",
    "            break\n",
    "        last_height = new_height\n",
    "        time.sleep(1.5)\n",
    "        # 팝업 제거\n",
    "        try:\n",
    "            driver.find_element_by_css_selector('#dismiss-button > a').click()\n",
    "\n",
    "        except:\n",
    "            pass\n",
    "    \n",
    "    # 모든 동영상 (쇼츠 제외) 링크, 제목 수집\n",
    "    video_links = []\n",
    "    title_list = []\n",
    "    for video in driver.find_elements(By.XPATH, \"//a[@id='video-title']\"):\n",
    "        if video.get_attribute is not None and 'shorts' not in video.get_attribute('href'):\n",
    "            video_links.append(video.get_attribute(\"href\"))\n",
    "            title_list.append(video.text.strip())\n",
    "\n",
    "    # 썸네일 이미지 가져오기\n",
    "    thumbnails = []\n",
    "    for video_link in video_links:\n",
    "        driver.get(video_link)\n",
    "        thumbnail = driver.find_element(By.XPATH, \"//meta[@property='og:image']\")\n",
    "        thumbnails.append(thumbnail.get_attribute('content'))\n",
    "\n",
    "    return video_links, title_list, thumbnails"
   ]
  },
  {
   "cell_type": "markdown",
   "id": "03c8cbd0",
   "metadata": {},
   "source": [
    "# 게임 - URL"
   ]
  },
  {
   "cell_type": "code",
   "execution_count": 95,
   "id": "21ec089b",
   "metadata": {},
   "outputs": [],
   "source": [
    "def game_check_url():\n",
    "    driver = webdriver.Chrome(service = Service(ChromeDriverManager().install()), options = options)\n",
    "    driver.get(url)\n",
    "    driver.implicitly_wait(3)\n",
    "    \n",
    "    # 카테고리별 클릭 버튼 추가하기 해당 class name 찾고 (영화)\n",
    "    # 영화 버튼 클릭하기\n",
    "    game_button = driver.find_element(By.XPATH, '//*[@id=\"tabsContent\"]/tp-yt-paper-tab[3]/div/div[1]')\n",
    "    ActionChains(driver).click(game_button).perform()\n",
    "\n",
    "    # 페이지 스크롤 다운 (모든 동영상 로딩)\n",
    "    last_height = driver.execute_script(\"return document.documentElement.scrollHeight\")\n",
    "    while True:\n",
    "        driver.execute_script(\"window.scrollTo(0, document.documentElement.scrollHeight);\")\n",
    "        time.sleep(5)\n",
    "        new_height = driver.execute_script(\"return document.documentElement.scrollHeight\")\n",
    "        if new_height == last_height:\n",
    "            break\n",
    "        last_height = new_height\n",
    "        time.sleep(1.5)\n",
    "        # 팝업 제거\n",
    "        try:\n",
    "            driver.find_element_by_css_selector('#dismiss-button > a').click()\n",
    "\n",
    "        except:\n",
    "            pass\n",
    "    \n",
    "    # 모든 동영상 (쇼츠 제외) 링크, 제목 수집\n",
    "    video_links = []\n",
    "    title_list = []\n",
    "    for video in driver.find_elements(By.XPATH, \"//a[@id='video-title']\"):\n",
    "        if video.get_attribute is not None and 'shorts' not in video.get_attribute('href'):\n",
    "            video_links.append(video.get_attribute(\"href\"))\n",
    "            title_list.append(video.text.strip())\n",
    "\n",
    "    # 썸네일 이미지 가져오기\n",
    "    thumbnails = []\n",
    "    for video_link in video_links:\n",
    "        driver.get(video_link)\n",
    "        thumbnail = driver.find_element(By.XPATH, \"//meta[@property='og:image']\")\n",
    "        thumbnails.append(thumbnail.get_attribute('content'))\n",
    "    \n",
    "    return video_links, title_list, thumbnails"
   ]
  },
  {
   "cell_type": "markdown",
   "id": "a8e3a887",
   "metadata": {},
   "source": [
    "# 영화 - URL"
   ]
  },
  {
   "cell_type": "code",
   "execution_count": 96,
   "id": "b56fc243",
   "metadata": {},
   "outputs": [],
   "source": [
    "def movie_check_url():\n",
    "    driver = webdriver.Chrome(service = Service(ChromeDriverManager().install()), options = options)\n",
    "    driver.get(url)\n",
    "    driver.implicitly_wait(3)\n",
    "    \n",
    "    # 카테고리별 클릭 버튼 추가하기 해당 class name 찾고 (영화)\n",
    "    # 영화 버튼 클릭하기\n",
    "    movie_button = driver.find_element(By.XPATH, '//*[@id=\"tabsContent\"]/tp-yt-paper-tab[4]/div/div[1]')\n",
    "    ActionChains(driver).click(movie_button).perform()\n",
    "\n",
    "\n",
    "    # 페이지 스크롤 다운 (모든 동영상 로딩)\n",
    "    last_height = driver.execute_script(\"return document.documentElement.scrollHeight\")\n",
    "    while True:\n",
    "        driver.execute_script(\"window.scrollTo(0, document.documentElement.scrollHeight);\")\n",
    "        time.sleep(5)\n",
    "        new_height = driver.execute_script(\"return document.documentElement.scrollHeight\")\n",
    "        if new_height == last_height:\n",
    "            break\n",
    "        last_height = new_height\n",
    "        time.sleep(1.5)\n",
    "        # 팝업 제거\n",
    "        try:\n",
    "            driver.find_element_by_css_selector('#dismiss-button > a').click()\n",
    "\n",
    "        except:\n",
    "            pass\n",
    "    \n",
    "    # 모든 동영상 (쇼츠 제외) 링크, 제목 수집\n",
    "    video_links = []\n",
    "    title_list = []\n",
    "    for video in driver.find_elements(By.XPATH, \"//a[@id='video-title']\"):\n",
    "        if video.get_attribute is not None and 'shorts' not in video.get_attribute('href'):\n",
    "            video_links.append(video.get_attribute(\"href\"))\n",
    "            title_list.append(video.text.strip())\n",
    "\n",
    "\n",
    "    # 썸네일 이미지 가져오기\n",
    "    thumbnails = []\n",
    "    for video_link in video_links:\n",
    "        driver.get(video_link)\n",
    "        thumbnail = driver.find_element(By.XPATH, \"//meta[@property='og:image']\")\n",
    "        thumbnails.append(thumbnail.get_attribute('content'))\n",
    "    \n",
    "    return video_links, title_list, thumbnails"
   ]
  },
  {
   "cell_type": "markdown",
   "id": "e560f58a",
   "metadata": {},
   "source": [
    "# URL 통합 과정"
   ]
  },
  {
   "cell_type": "code",
   "execution_count": 97,
   "id": "94deaaf7",
   "metadata": {},
   "outputs": [],
   "source": [
    "recent_results = recent_check_url()\n",
    "recent_urls, recent_thumbnail_urls = recent_results[0], recent_results[2]"
   ]
  },
  {
   "cell_type": "code",
   "execution_count": 98,
   "id": "82a2f449",
   "metadata": {},
   "outputs": [],
   "source": [
    "music_results = music_check_url()\n",
    "music_urls, music_thumbnail_urls = music_results[0], music_results[2]"
   ]
  },
  {
   "cell_type": "code",
   "execution_count": 99,
   "id": "001c82f8",
   "metadata": {},
   "outputs": [],
   "source": [
    "game_results = game_check_url()\n",
    "game_urls, game_thumbnail_urls = game_results[0], game_results[2]"
   ]
  },
  {
   "cell_type": "code",
   "execution_count": 100,
   "id": "4f1b1a32",
   "metadata": {},
   "outputs": [],
   "source": [
    "movie_results = movie_check_url()\n",
    "movie_urls, movie_thumbnail_urls = movie_results[0], movie_results[2]"
   ]
  },
  {
   "cell_type": "code",
   "execution_count": 107,
   "id": "0f30a684",
   "metadata": {},
   "outputs": [],
   "source": [
    "URLS = [recent_urls] + [music_urls] + [game_urls] + [movie_urls]\n",
    "THUMBNAILS_URLS = [recent_thumbnail_urls] + [music_thumbnail_urls] + [game_thumbnail_urls] + [movie_thumbnail_urls]"
   ]
  },
  {
   "cell_type": "code",
   "execution_count": 112,
   "id": "11fd34e5",
   "metadata": {},
   "outputs": [],
   "source": [
    "df = pd.DataFrame(columns = ['urls', 'thumbnails_urls'])\n",
    "df['urls'] = URLS\n",
    "df['thumbnails_urls'] = THUBNAILS_URLS"
   ]
  },
  {
   "cell_type": "code",
   "execution_count": 114,
   "id": "e3156611",
   "metadata": {},
   "outputs": [],
   "source": [
    "df.to_csv('URL.csv',index=False)"
   ]
  },
  {
   "cell_type": "code",
   "execution_count": null,
   "id": "39b3c5e3",
   "metadata": {},
   "outputs": [],
   "source": []
  }
 ],
 "metadata": {
  "kernelspec": {
   "display_name": "Python 3 (ipykernel)",
   "language": "python",
   "name": "python3"
  },
  "language_info": {
   "codemirror_mode": {
    "name": "ipython",
    "version": 3
   },
   "file_extension": ".py",
   "mimetype": "text/x-python",
   "name": "python",
   "nbconvert_exporter": "python",
   "pygments_lexer": "ipython3",
   "version": "3.8.12"
  },
  "toc": {
   "base_numbering": 1,
   "nav_menu": {},
   "number_sections": true,
   "sideBar": true,
   "skip_h1_title": false,
   "title_cell": "Table of Contents",
   "title_sidebar": "Contents",
   "toc_cell": false,
   "toc_position": {},
   "toc_section_display": true,
   "toc_window_display": true
  },
  "varInspector": {
   "cols": {
    "lenName": 16,
    "lenType": 16,
    "lenVar": 40
   },
   "kernels_config": {
    "python": {
     "delete_cmd_postfix": "",
     "delete_cmd_prefix": "del ",
     "library": "var_list.py",
     "varRefreshCmd": "print(var_dic_list())"
    },
    "r": {
     "delete_cmd_postfix": ") ",
     "delete_cmd_prefix": "rm(",
     "library": "var_list.r",
     "varRefreshCmd": "cat(var_dic_list()) "
    }
   },
   "types_to_exclude": [
    "module",
    "function",
    "builtin_function_or_method",
    "instance",
    "_Feature"
   ],
   "window_display": false
  }
 },
 "nbformat": 4,
 "nbformat_minor": 5
}
