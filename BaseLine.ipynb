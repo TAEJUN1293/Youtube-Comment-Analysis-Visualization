{
 "cells": [
  {
   "cell_type": "markdown",
   "id": "652a3dd9",
   "metadata": {},
   "source": [
    "# Youtube 인기 급상승 채널로부터 크롤링 진행"
   ]
  },
  {
   "cell_type": "code",
   "execution_count": 73,
   "id": "b74ff157",
   "metadata": {},
   "outputs": [],
   "source": [
    "# scraping에 필요한 라이브러리 호출\n",
    "from selenium import webdriver\n",
    "from webdriver_manager.chrome import ChromeDriverManager\n",
    "from selenium.webdriver.chrome.service import Service\n",
    "from selenium.webdriver.common.by import By\n",
    "from selenium.webdriver.support.ui import WebDriverWait\n",
    "from selenium.webdriver.support import expected_conditions as EC\n",
    "from bs4 import BeautifulSoup\n",
    "import pandas as pd\n",
    "import time\n",
    "from tqdm import tqdm\n",
    "import re\n",
    "import warnings\n",
    "warnings.filterwarnings('ignore')\n",
    "warnings.filterwarnings(action = 'ignore')"
   ]
  },
  {
   "cell_type": "markdown",
   "id": "1ecc5a2b",
   "metadata": {},
   "source": [
    "## 최신 기준 상위 50개"
   ]
  },
  {
   "cell_type": "code",
   "execution_count": 80,
   "id": "6918d3fe",
   "metadata": {},
   "outputs": [],
   "source": [
    "user_agent = 'Mozilla/5.0 (Windows NT 10.0; Win64; x64) AppleWebKit/537.36 (KHTML, like Gecko) Chrome/112.0.0.0 Safari/537.36'\n",
    "url = \"https://www.youtube.com/feed/trending\"\n",
    "\n",
    "options = webdriver.ChromeOptions()\n",
    "# 크롬창 띄우기 X\n",
    "# options.add_argument('headless')\n",
    "options.add_argument('window-size=1920*1080')\n",
    "# 크롤링 성능 향상\n",
    "options.add_argument('disable-gpu')\n",
    "options.add_argument('lang=ko_KR, en_US')\n",
    "options.add_argument('user-agent=' + user_agent)\n",
    "\n",
    "driver = webdriver.Chrome(service = Service(ChromeDriverManager().install()), options = options)\n",
    "driver.get(url)\n",
    "driver.implicitly_wait(3)\n",
    "\n",
    "# 카테고리별 클릭 버튼 추가하기\n",
    "# ~~~ code\n",
    "\n",
    "# 페이지 스크롤 다운 (모든 동영상 로딩)\n",
    "last_height = driver.execute_script(\"return document.documentElement.scrollHeight\")\n",
    "while True:\n",
    "    driver.execute_script(\"window.scrollTo(0, document.documentElement.scrollHeight);\")\n",
    "    time.sleep(5)\n",
    "    new_height = driver.execute_script(\"return document.documentElement.scrollHeight\")\n",
    "    if new_height == last_height:\n",
    "        break\n",
    "    last_height = new_height\n",
    "    time.sleep(1.5)\n",
    "    # 팝업 제거\n",
    "    try:\n",
    "        driver.find_element_by_css_selector('#dismiss-button > a').click()\n",
    "\n",
    "    except:\n",
    "        pass\n",
    "    \n",
    "# 모든 동영상 링크 수집\n",
    "video_links = []\n",
    "for video in driver.find_elements(By.XPATH, \"//a[@id='video-title']\"):\n",
    "    video_links.append(video.get_attribute(\"href\"))\n",
    "\n",
    "    \n",
    "# 상위 영상 n개 추출\n",
    "video_links = video_links[:2]"
   ]
  },
  {
   "cell_type": "code",
   "execution_count": 82,
   "id": "e2031944",
   "metadata": {},
   "outputs": [],
   "source": [
    "html_sources = []\n",
    "for video_link in video_links:\n",
    "    driver.get(video_link)\n",
    "    # continue\n",
    "    # driver.maximize_window()\n",
    "    # 댓글 로딩 대기\n",
    "    driver.implicitly_wait(10)\n",
    "    # 페이지 스크롤 다운 (모든 동영상 로딩) 하면 너무 오래걸림.. (문제 발생)\n",
    "    last_height = driver.execute_script(\"return document.documentElement.scrollHeight\")\n",
    "    while True:\n",
    "        driver.execute_script(\"window.scrollTo(0, document.documentElement.scrollHeight);\")\n",
    "        time.sleep(3)\n",
    "        new_height = driver.execute_script(\"return document.documentElement.scrollHeight\")\n",
    "        if new_height == last_height:\n",
    "            break\n",
    "        last_height = new_height\n",
    "        time.sleep(2)\n",
    "    # 팝업 제거\n",
    "    try:\n",
    "        driver.find_element_by_css_selector(\"#dismiss-button > a\").click()\n",
    "    except:\n",
    "        pass\n",
    "    \n",
    "    time.sleep(2)\n",
    "    \n",
    "    html_source = driver.page_source\n",
    "    html_sources.append(html_source)"
   ]
  },
  {
   "cell_type": "code",
   "execution_count": 83,
   "id": "4d9bae48",
   "metadata": {},
   "outputs": [
    {
     "data": {
      "text/plain": [
       "2"
      ]
     },
     "execution_count": 83,
     "metadata": {},
     "output_type": "execute_result"
    }
   ],
   "source": [
    "# 각 url 별 html 코드 잘 append 되었나 checking\n",
    "len(html_sources)"
   ]
  },
  {
   "cell_type": "code",
   "execution_count": 84,
   "id": "dd277100",
   "metadata": {},
   "outputs": [
    {
     "data": {
      "text/html": [
       "<div>\n",
       "<style scoped>\n",
       "    .dataframe tbody tr th:only-of-type {\n",
       "        vertical-align: middle;\n",
       "    }\n",
       "\n",
       "    .dataframe tbody tr th {\n",
       "        vertical-align: top;\n",
       "    }\n",
       "\n",
       "    .dataframe thead th {\n",
       "        text-align: right;\n",
       "    }\n",
       "</style>\n",
       "<table border=\"1\" class=\"dataframe\">\n",
       "  <thead>\n",
       "    <tr style=\"text-align: right;\">\n",
       "      <th></th>\n",
       "      <th>Youtube_ID</th>\n",
       "      <th>Comment</th>\n",
       "    </tr>\n",
       "  </thead>\n",
       "  <tbody>\n",
       "  </tbody>\n",
       "</table>\n",
       "</div>"
      ],
      "text/plain": [
       "Empty DataFrame\n",
       "Columns: [Youtube_ID, Comment]\n",
       "Index: []"
      ]
     },
     "execution_count": 84,
     "metadata": {},
     "output_type": "execute_result"
    }
   ],
   "source": [
    "# 빈 데이터 프레임 생성\n",
    "df = pd.DataFrame(columns = ['Youtube_ID', 'Comment'])\n",
    "df"
   ]
  },
  {
   "cell_type": "code",
   "execution_count": 85,
   "id": "f7c8e5ee",
   "metadata": {},
   "outputs": [],
   "source": [
    "for html_source in html_sources:\n",
    "    # html 코드 파싱\n",
    "    soup = BeautifulSoup(html_source, 'html.parser')\n",
    "    # id 리스트\n",
    "    id_list = soup.select('div#header-author > h3 > #author-text > span') \n",
    "    # comment 리스트  \n",
    "    comment_list = soup.select('yt-formatted-string#content-text') \n",
    "    \n",
    "    # 파싱해서 넣을 실제 데이터 리스트\n",
    "    youtube_id = []\n",
    "    youtube_comment = []\n",
    "    # 각 comment 별 id, comment 출력\n",
    "    for i in range(len(comment_list)):\n",
    "        id_ = id_list[i].text\n",
    "        id_ = id_.replace('\\n', '').replace('\\t', '').replace(' ', '').strip()\n",
    "        youtube_id.append(id_) # 댓글 작성자\n",
    "        \n",
    "        comment_ = comment_list[i].text\n",
    "        comment_ = comment_.replace('\\n', '').replace('\\t', '').replace('\\r', '').strip()\n",
    "        youtube_comment.append(comment_) # 댓글 내용\n",
    "\n",
    "    youtube_data = {'Youtube_ID' : youtube_id, 'Comment' : youtube_comment}\n",
    "    youtube_df = pd.DataFrame(youtube_data)\n",
    "    df = pd.concat([df, youtube_df], axis=0)"
   ]
  },
  {
   "cell_type": "code",
   "execution_count": 91,
   "id": "ce37c649",
   "metadata": {},
   "outputs": [],
   "source": [
    "df.reset_index(drop=True, inplace=True)"
   ]
  },
  {
   "cell_type": "code",
   "execution_count": 94,
   "id": "cf4db3a4",
   "metadata": {},
   "outputs": [],
   "source": [
    "# 5/2 12시 48분 기준, 원래 댓글 50,000 개 -> 실제 읽어온 데이터 2665개. "
   ]
  },
  {
   "cell_type": "code",
   "execution_count": 92,
   "id": "d6db0419",
   "metadata": {},
   "outputs": [
    {
     "data": {
      "text/html": [
       "<div>\n",
       "<style scoped>\n",
       "    .dataframe tbody tr th:only-of-type {\n",
       "        vertical-align: middle;\n",
       "    }\n",
       "\n",
       "    .dataframe tbody tr th {\n",
       "        vertical-align: top;\n",
       "    }\n",
       "\n",
       "    .dataframe thead th {\n",
       "        text-align: right;\n",
       "    }\n",
       "</style>\n",
       "<table border=\"1\" class=\"dataframe\">\n",
       "  <thead>\n",
       "    <tr style=\"text-align: right;\">\n",
       "      <th></th>\n",
       "      <th>Youtube_ID</th>\n",
       "      <th>Comment</th>\n",
       "    </tr>\n",
       "  </thead>\n",
       "  <tbody>\n",
       "    <tr>\n",
       "      <th>0</th>\n",
       "      <td>@twaimz</td>\n",
       "      <td>STUNNING, BEYOND TALENTED, BEYOND GORGEOUS</td>\n",
       "    </tr>\n",
       "    <tr>\n",
       "      <th>1</th>\n",
       "      <td>@5.12ksubschallengewith0Video</td>\n",
       "      <td>Классная песня!!Девочки молодцыы!!!!Кто всегда...</td>\n",
       "    </tr>\n",
       "    <tr>\n",
       "      <th>2</th>\n",
       "      <td>@emelybonilla2532</td>\n",
       "      <td>10M¿11M?12M?13M?14M?15M?16M?17M?18M?19M?20M?ES...</td>\n",
       "    </tr>\n",
       "    <tr>\n",
       "      <th>3</th>\n",
       "      <td>@5.12ksubschallengewith0Video</td>\n",
       "      <td>ДАВАЙТЕ ПОКАЖЕМ, НАСКОЛЬКО СИЛЬНО МЫ ЛЮБИМ И П...</td>\n",
       "    </tr>\n",
       "    <tr>\n",
       "      <th>4</th>\n",
       "      <td>@albertsan8560</td>\n",
       "      <td>VAMOS POR ESOS 10M DE VISTAS, GENTEEE!!! ESTAS...</td>\n",
       "    </tr>\n",
       "    <tr>\n",
       "      <th>...</th>\n",
       "      <td>...</td>\n",
       "      <td>...</td>\n",
       "    </tr>\n",
       "    <tr>\n",
       "      <th>2660</th>\n",
       "      <td>@soul553</td>\n",
       "      <td>The song is so bad</td>\n",
       "    </tr>\n",
       "    <tr>\n",
       "      <th>2661</th>\n",
       "      <td>@1284-sc2yi</td>\n",
       "      <td>노잼</td>\n",
       "    </tr>\n",
       "    <tr>\n",
       "      <th>2662</th>\n",
       "      <td>@shahadalbalawi4559</td>\n",
       "      <td>Horrible</td>\n",
       "    </tr>\n",
       "    <tr>\n",
       "      <th>2663</th>\n",
       "      <td>@lisamylove14</td>\n",
       "      <td>what kind of a song is this , so repetitive an...</td>\n",
       "    </tr>\n",
       "    <tr>\n",
       "      <th>2664</th>\n",
       "      <td>@leninlola5073</td>\n",
       "      <td>Me suena a Rosalía la canción un poco .</td>\n",
       "    </tr>\n",
       "  </tbody>\n",
       "</table>\n",
       "<p>2665 rows × 2 columns</p>\n",
       "</div>"
      ],
      "text/plain": [
       "                         Youtube_ID  \\\n",
       "0                           @twaimz   \n",
       "1     @5.12ksubschallengewith0Video   \n",
       "2                 @emelybonilla2532   \n",
       "3     @5.12ksubschallengewith0Video   \n",
       "4                    @albertsan8560   \n",
       "...                             ...   \n",
       "2660                       @soul553   \n",
       "2661                    @1284-sc2yi   \n",
       "2662            @shahadalbalawi4559   \n",
       "2663                  @lisamylove14   \n",
       "2664                 @leninlola5073   \n",
       "\n",
       "                                                Comment  \n",
       "0            STUNNING, BEYOND TALENTED, BEYOND GORGEOUS  \n",
       "1     Классная песня!!Девочки молодцыы!!!!Кто всегда...  \n",
       "2     10M¿11M?12M?13M?14M?15M?16M?17M?18M?19M?20M?ES...  \n",
       "3     ДАВАЙТЕ ПОКАЖЕМ, НАСКОЛЬКО СИЛЬНО МЫ ЛЮБИМ И П...  \n",
       "4     VAMOS POR ESOS 10M DE VISTAS, GENTEEE!!! ESTAS...  \n",
       "...                                                 ...  \n",
       "2660                                 The song is so bad  \n",
       "2661                                                 노잼  \n",
       "2662                                           Horrible  \n",
       "2663  what kind of a song is this , so repetitive an...  \n",
       "2664            Me suena a Rosalía la canción un poco .  \n",
       "\n",
       "[2665 rows x 2 columns]"
      ]
     },
     "execution_count": 92,
     "metadata": {},
     "output_type": "execute_result"
    }
   ],
   "source": [
    "df"
   ]
  },
  {
   "cell_type": "code",
   "execution_count": 95,
   "id": "6484242b",
   "metadata": {},
   "outputs": [],
   "source": [
    "df.to_csv('youtube_crawling_sample.csv', index=False)"
   ]
  },
  {
   "cell_type": "markdown",
   "id": "238e40d4",
   "metadata": {},
   "source": [
    "# Comment Visualization"
   ]
  },
  {
   "cell_type": "code",
   "execution_count": null,
   "id": "dfd27f46",
   "metadata": {},
   "outputs": [],
   "source": []
  },
  {
   "cell_type": "code",
   "execution_count": null,
   "id": "9ee4b462",
   "metadata": {},
   "outputs": [],
   "source": []
  },
  {
   "cell_type": "code",
   "execution_count": null,
   "id": "77aa8b7b",
   "metadata": {},
   "outputs": [],
   "source": []
  },
  {
   "cell_type": "code",
   "execution_count": null,
   "id": "d6ffbee7",
   "metadata": {},
   "outputs": [],
   "source": []
  },
  {
   "cell_type": "code",
   "execution_count": null,
   "id": "321e9430",
   "metadata": {},
   "outputs": [],
   "source": []
  },
  {
   "cell_type": "code",
   "execution_count": null,
   "id": "3c11a7e5",
   "metadata": {},
   "outputs": [],
   "source": []
  },
  {
   "cell_type": "code",
   "execution_count": null,
   "id": "03c62be9",
   "metadata": {},
   "outputs": [],
   "source": []
  },
  {
   "cell_type": "code",
   "execution_count": null,
   "id": "cf78bf50",
   "metadata": {},
   "outputs": [],
   "source": []
  },
  {
   "cell_type": "code",
   "execution_count": null,
   "id": "90c6f442",
   "metadata": {},
   "outputs": [],
   "source": []
  }
 ],
 "metadata": {
  "kernelspec": {
   "display_name": "Python 3 (ipykernel)",
   "language": "python",
   "name": "python3"
  },
  "language_info": {
   "codemirror_mode": {
    "name": "ipython",
    "version": 3
   },
   "file_extension": ".py",
   "mimetype": "text/x-python",
   "name": "python",
   "nbconvert_exporter": "python",
   "pygments_lexer": "ipython3",
   "version": "3.8.12"
  },
  "toc": {
   "base_numbering": 1,
   "nav_menu": {},
   "number_sections": true,
   "sideBar": true,
   "skip_h1_title": false,
   "title_cell": "Table of Contents",
   "title_sidebar": "Contents",
   "toc_cell": false,
   "toc_position": {},
   "toc_section_display": true,
   "toc_window_display": false
  },
  "varInspector": {
   "cols": {
    "lenName": 16,
    "lenType": 16,
    "lenVar": 40
   },
   "kernels_config": {
    "python": {
     "delete_cmd_postfix": "",
     "delete_cmd_prefix": "del ",
     "library": "var_list.py",
     "varRefreshCmd": "print(var_dic_list())"
    },
    "r": {
     "delete_cmd_postfix": ") ",
     "delete_cmd_prefix": "rm(",
     "library": "var_list.r",
     "varRefreshCmd": "cat(var_dic_list()) "
    }
   },
   "types_to_exclude": [
    "module",
    "function",
    "builtin_function_or_method",
    "instance",
    "_Feature"
   ],
   "window_display": false
  }
 },
 "nbformat": 4,
 "nbformat_minor": 5
}
